{
  "nbformat": 4,
  "nbformat_minor": 0,
  "metadata": {
    "colab": {
      "name": "Interpolação_Polinomial.ipynb",
      "provenance": [],
      "collapsed_sections": []
    },
    "kernelspec": {
      "name": "python3",
      "display_name": "Python 3"
    },
    "language_info": {
      "name": "python"
    }
  },
  "cells": [
    {
      "cell_type": "code",
      "source": [
        "import numpy as np\n",
        "import sympy\n",
        "\n",
        "#Definindo função para interpolar as funções polinomialmente\n",
        "def interpolacao(x, fx, n):\n",
        "  A = np.zeros((n,n))\n",
        "  i = 0\n",
        "  j = 0\n",
        "  for i in range(n):\n",
        "    for j in range(n):\n",
        "      if j == 0:\n",
        "        A[i,j] = 1\n",
        "      else:\n",
        "        A[i,j] = x[i] ** j\n",
        "  \n",
        "  b = fx.copy()\n",
        "\n",
        "  a = np.linalg.solve(A, b)\n",
        "\n",
        "  return np.round(a.flatten(),4)\n",
        "\n",
        "#Definindo função para interpolar as funções polinomialmente, pelo método de Lagrange\n",
        "def interplagrange(x, fx, n):\n",
        "  px = 0\n",
        "  L = np.ones(n, dtype=object)\n",
        "  y = sympy.symbols('y')\n",
        "  for k in range(n):\n",
        "    for j in range(n):\n",
        "      if j != k:\n",
        "        L[k] = sympy.expand(L[k] * ((y - x[j]) / (x[k] - x[j])))\n",
        "    L[k] = L[k] * fx[k]\n",
        "    px += L[k]\n",
        "\n",
        "  px = sympy.Poly(px)\n",
        "  a = px.all_coeffs()\n",
        "\n",
        "  return a\n",
        "\n",
        "#Definindo função para interpolar as funções polinomialmente, pelo método de Newton\n",
        "def interpnewton(x, fx, n):\n",
        "  px = 0\n",
        "  L = np.ones(n, dtype=object)\n",
        "  A = np.zeros((n, n+1))\n",
        "  A[:,0], A[:,1] = x[:], fx[:]\n",
        "  for j in range(2, n+1):\n",
        "    for i in range(j-1,n):\n",
        "      A[i,j] = ((A[i,j-1] - A[i-1,j-1]) / (A[i,0] - A[i-j+1,0]))\n",
        "  \n",
        "  y = np.zeros(n)\n",
        "  for i in range(0,n):\n",
        "    y[i] = A[i,i+1]\n",
        "  \n",
        "  k = sympy.symbols('k')\n",
        "\n",
        "  for i in range(len(y)):\n",
        "    if i == 0:\n",
        "      L[i] = (k - x[i])\n",
        "    else:\n",
        "      L[i] = sympy.expand((k - x[i]) * L[i-1])\n",
        "    \n",
        "    if i == 0:\n",
        "      px += y[i]\n",
        "    else:\n",
        "      px += L[i-1] * y[i]  \n",
        "  \n",
        "  px = sympy.Poly(px)\n",
        "  a = px.all_coeffs()\n",
        "\n",
        "  return a\n",
        "\n",
        "#Definindo função para interpolar as funções, pelo método da Spline Cúbica\n",
        "def interpsplinecub(x, fx, xinterv):\n",
        "  n = len(x)\n",
        "  h = np.zeros((n,))\n",
        "  a = fx\n",
        "  b = np.zeros((n,))\n",
        "  d = np.zeros((n,))\n",
        "  B = np.zeros((n,))\n",
        "  for i in range(n-1):\n",
        "    h[i] = x[i+1] - x[i]\n",
        "\n",
        "  for i in range(1, n-1):\n",
        "    B[i] = 3 * (a[i+1] - a[i]) / h[i] - 3 * (a[i] - a[i-1]) / h[i-1]\n",
        "  \n",
        "  A = np.zeros ((n,n))\n",
        "  A[0,0] = 1\n",
        "  A[n-1,n-1] = 1\n",
        "  for i in range(n-1):\n",
        "    A[i,i] = 2 * (h[i-1] + h[i])\n",
        "    for j in range(n-1):\n",
        "      if i == j+1:\n",
        "        A[i,j] = h[i-1]\n",
        "      elif j == i+1:\n",
        "        A[i,j] = h[i]\n",
        "  \n",
        "  c = np.linalg.solve(A,B)\n",
        "  for j in range(n-1):\n",
        "    b[j] = (a[j+1] - a[j]) / h[j] - h[j] * (c[j+1] + 2 * c[j]) / 3\n",
        "    d[j] = (c[j+1] - c[j]) / (3 * h[j])\n",
        "  \n",
        "  y = []\n",
        "  for p in xinterv:\n",
        "    for i in range(n-1):\n",
        "      if x[i] <= p <= x[i+1]:\n",
        "        scub = a[i] + b[i] * (p - x[i]) + c[i] * (p-x[i]) ** 2 + d[i] * (p-x[i]) ** 3\n",
        "        y.append(scub)\n",
        "  \n",
        "  return y"
      ],
      "metadata": {
        "id": "_gxTVwKSaw0A"
      },
      "execution_count": null,
      "outputs": []
    },
    {
      "cell_type": "code",
      "execution_count": null,
      "metadata": {
        "colab": {
          "base_uri": "https://localhost:8080/"
        },
        "id": "mjdtZJNRV_UL",
        "outputId": "5a885856-d3d3-4d9a-dbae-c4c702e442b6"
      },
      "outputs": [
        {
          "output_type": "stream",
          "name": "stdout",
          "text": [
            "Os coeficientes do polinômio p2(x) são [ 8. -6.  1.]\n",
            "Os valores p2(x0), p2(x1) e p2(x2) são, respectivamente: 15.0, 8.0, -1.0\n"
          ]
        }
      ],
      "source": [
        "import numpy as np\n",
        "\n",
        "#Definindo os pontos x e f(x)\n",
        "x = np.array([-1.0, 0, 3])\n",
        "fx = np.array([[15],[8.0],[-1]])\n",
        "n = 3\n",
        "\n",
        "#Encontrando os coeficientes da função interpoladora\n",
        "a = interpolacao(x, fx, n)\n",
        "\n",
        "p2x0 = a[0] * 1 + a[1] * x[0] + a[2] * (x[0]**2)\n",
        "p2x1 = a[0] * 1 + a[1] * x[1] + a[2] * (x[1]**2)\n",
        "p2x2 = a[0] * 1 + a[1] * x[2] + a[2] * (x[2]**2)\n",
        "print('Os coeficientes do polinômio p2(x) são %s' %(a))\n",
        "print('Os valores p2(x0), p2(x1) e p2(x2) são, respectivamente: %s, %s, %s' %(p2x0, p2x1, p2x2))"
      ]
    },
    {
      "cell_type": "code",
      "source": [
        "import matplotlib.pyplot as plt\n",
        "\n",
        "#Definindo a função p2(x) utilizando os coeficientes a para ajuste\n",
        "xmult = np.linspace(-1, 3, 200)\n",
        "p2x = a[0] * 1 + a[1] * xmult + a[2] * (xmult**2)\n",
        "\n",
        "#Plotando o gráfico de f(x) e p2(x)\n",
        "fig, ax = plt.subplots()\n",
        "ax.scatter(x, fx, color='black', label='f(x)')\n",
        "ax.plot(xmult, p2x, color='blue', label='Interpolação p2(x)')\n",
        "ax.set_xlabel('x', fontsize=18)\n",
        "ax.set_ylabel('y', fontsize=18)\n",
        "ax.legend()\n",
        "\n",
        "plt.grid()\n",
        "plt.show()"
      ],
      "metadata": {
        "colab": {
          "base_uri": "https://localhost:8080/",
          "height": 287
        },
        "id": "OHgL0Kk2hR9X",
        "outputId": "c1a12b2a-05f9-4e85-a42e-2b2692d1bc37"
      },
      "execution_count": null,
      "outputs": [
        {
          "output_type": "display_data",
          "data": {
            "text/plain": [
              "<Figure size 432x288 with 1 Axes>"
            ],
            "image/png": "[encoded data removed]"
          },
          "metadata": {
            "needs_background": "light"
          }
        }
      ]
    },
    {
      "cell_type": "code",
      "source": [
        "import numpy as np\n",
        "\n",
        "#Definindo os pontos x e f(x)\n",
        "x = np.array([0.1, 0.2, 0.3, 0.4])\n",
        "fx = np.array([[5],[13],[-4],[-8]])\n",
        "n = 4\n",
        "\n",
        "#Encontrando os coeficientes da função interpoladora\n",
        "a = interpolacao(x, fx, n)\n",
        "\n",
        "p3x0 = a[0] * 1 + a[1] * x[0] + a[2] * (x[0]**2) + a[3] * (x[0]**3)\n",
        "p3x1 = a[0] * 1 + a[1] * x[1] + a[2] * (x[1]**2) + a[3] * (x[1]**3)\n",
        "p3x2 = a[0] * 1 + a[1] * x[2] + a[2] * (x[2]**2) + a[3] * (x[2]**3)\n",
        "p3x3 = a[0] * 1 + a[1] * x[3] + a[2] * (x[3]**2) + a[3] * (x[3]**3)\n",
        "print('Os coeficientes do polinômio p3(x) são %s' %(a))\n",
        "print('Os valores p2(x0), p2(x1) e p2(x2) são, respectivamente: %s, %s, %s, %s' %(p3x0, p3x1, p3x2, p3x3))"
      ],
      "metadata": {
        "colab": {
          "base_uri": "https://localhost:8080/"
        },
        "id": "8fDI_KbejkWI",
        "outputId": "69a43e72-dad7-4ab3-cbe3-7385e51acf53"
      },
      "execution_count": null,
      "outputs": [
        {
          "output_type": "stream",
          "name": "stdout",
          "text": [
            "Os coeficientes do polinômio p3(x) são [  -66.      1151.6667 -5050.      6333.3333]\n",
            "Os valores p2(x0), p2(x1) e p2(x2) são, respectivamente: 5.000003300000005, 13.000006400000004, -3.9999909000000287, -7.999988799999983\n"
          ]
        }
      ]
    },
    {
      "cell_type": "code",
      "source": [
        "import matplotlib.pyplot as plt\n",
        "\n",
        "#Definindo a função p3(x) utilizando os coeficientes a para ajuste\n",
        "xmult = np.linspace(0.1, 0.4, 200)\n",
        "p2x = a[0] * 1 + a[1] * xmult + a[2] * (xmult**2) + a[3] * (xmult**3)\n",
        "\n",
        "#Plotando o gráfico de f(x) e p3(x)\n",
        "fig, ax = plt.subplots()\n",
        "ax.scatter(x, fx, color='black', label='f(x)')\n",
        "ax.plot(xmult, p2x, color='blue', label='Interpolação p3(x)')\n",
        "ax.set_xlabel('x', fontsize=18)\n",
        "ax.set_ylabel('y', fontsize=18)\n",
        "ax.legend()\n",
        "\n",
        "plt.grid()\n",
        "plt.show()"
      ],
      "metadata": {
        "colab": {
          "base_uri": "https://localhost:8080/",
          "height": 287
        },
        "id": "MQ9NZyouj0VJ",
        "outputId": "401a8ce6-eab2-4b91-a781-119cad8a00c1"
      },
      "execution_count": null,
      "outputs": [
        {
          "output_type": "display_data",
          "data": {
            "text/plain": [
              "<Figure size 432x288 with 1 Axes>"
            ],
            "image/png": "[encoded data removed]"
          },
          "metadata": {
            "needs_background": "light"
          }
        }
      ]
    },
    {
      "cell_type": "code",
      "source": [
        "import numpy as np\n",
        "\n",
        "#Definindo os pontos x e f(x)\n",
        "x = [-1.0, 0, 2]\n",
        "fx = [4, 1.0, -1]\n",
        "n = 3\n",
        "\n",
        "#Encontrando os coeficientes da função interpoladora\n",
        "a = interplagrange(x, fx, n)\n",
        "print('A função interpoladora polinomial, pelo método de Lagrange, tem os seguintes coeficientes: %s' %(a))"
      ],
      "metadata": {
        "colab": {
          "base_uri": "https://localhost:8080/"
        },
        "id": "qPNCL___ADUs",
        "outputId": "4803ab3e-cbc7-40eb-f991-9d5d593587ea"
      },
      "execution_count": null,
      "outputs": [
        {
          "output_type": "stream",
          "name": "stdout",
          "text": [
            "0.666666666666667*y**2 - 2.33333333333333*y + 1.0\n",
            "A função interpoladora polinomial, pelo método de Lagrange, tem os seguintes coeficientes: [0.666666666666667, -2.33333333333333, 1.00000000000000]\n"
          ]
        }
      ]
    },
    {
      "cell_type": "code",
      "source": [
        "import matplotlib.pyplot as plt\n",
        "\n",
        "#Definindo a função p2(x) utilizando os coeficientes a para ajuste\n",
        "xmult = np.linspace(-1, 2, 200)\n",
        "p2x = a[2] * 1 + a[1] * xmult + a[0] * (xmult**2)\n",
        "\n",
        "#Plotando o gráfico de f(x) e p2(x)\n",
        "fig, ax = plt.subplots()\n",
        "ax.scatter(x, fx, color='black', label='f(x)')\n",
        "ax.plot(xmult, p2x, color='blue', label='Interpolação p2(x)')\n",
        "ax.set_xlabel('x', fontsize=18)\n",
        "ax.set_ylabel('y', fontsize=18)\n",
        "ax.legend()\n",
        "\n",
        "plt.grid()\n",
        "plt.show()"
      ],
      "metadata": {
        "colab": {
          "base_uri": "https://localhost:8080/",
          "height": 287
        },
        "id": "wSXffg1XZzlp",
        "outputId": "062e39ac-3836-402a-f023-5bd5551b6c94"
      },
      "execution_count": null,
      "outputs": [
        {
          "output_type": "display_data",
          "data": {
            "text/plain": [
              "<Figure size 432x288 with 1 Axes>"
            ],
            "image/png": "[encoded data removed]"
          },
          "metadata": {
            "needs_background": "light"
          }
        }
      ]
    },
    {
      "cell_type": "code",
      "source": [
        "import numpy as np\n",
        "\n",
        "#Definindo os pontos x e f(x)\n",
        "x = [-1.0, 0, 1, 2, 3]\n",
        "fx = [1, 1.0, 0, -1, -2]\n",
        "n = 5\n",
        "\n",
        "#Encontrando os coeficientes da função interpoladora\n",
        "a = interpnewton(x, fx, n)\n",
        "print('A função interpoladora polinomial, pelo método de Newton, tem os seguintes coeficientes: %s' %(a))"
      ],
      "metadata": {
        "colab": {
          "base_uri": "https://localhost:8080/"
        },
        "id": "iRRoPSTmhfAj",
        "outputId": "c0a9fa45-bc92-456b-935f-814c2fecd25a"
      },
      "execution_count": null,
      "outputs": [
        {
          "output_type": "stream",
          "name": "stdout",
          "text": [
            "A função interpoladora polinomial, pelo método de Newton, tem os seguintes coeficientes: [-0.0416666666666667, 0.250000000000000, -0.458333333333333, -0.750000000000000, 1.00000000000000]\n"
          ]
        }
      ]
    },
    {
      "cell_type": "code",
      "source": [
        "import matplotlib.pyplot as plt\n",
        "\n",
        "#Definindo a função p4(x) utilizando os coeficientes a para ajuste\n",
        "xmult = np.linspace(-1, 3, 200)\n",
        "p4x = a[4] + a[3]*xmult + a[2]*(xmult**2) + a[1]*(xmult**3) + a[0]*(xmult**4)\n",
        "\n",
        "#Plotando o gráfico de f(x) e p4(x)\n",
        "fig, ax = plt.subplots()\n",
        "ax.scatter(x, fx, color='black', label='f(x)')\n",
        "ax.plot(xmult, p4x, color='blue', label='Interpolação p4(x)')\n",
        "ax.set_xlabel('x', fontsize=18)\n",
        "ax.set_ylabel('y', fontsize=18)\n",
        "ax.legend()\n",
        "\n",
        "plt.grid()\n",
        "plt.show()"
      ],
      "metadata": {
        "colab": {
          "base_uri": "https://localhost:8080/",
          "height": 287
        },
        "id": "5NnR5b6zpomS",
        "outputId": "bece2d6f-cd20-4c6b-e536-df4f4c817db9"
      },
      "execution_count": null,
      "outputs": [
        {
          "output_type": "display_data",
          "data": {
            "text/plain": [
              "<Figure size 432x288 with 1 Axes>"
            ],
            "image/png": "[encoded data removed]"
          },
          "metadata": {
            "needs_background": "light"
          }
        }
      ]
    },
    {
      "cell_type": "code",
      "source": [
        "import numpy as np\n",
        "import matplotlib.pyplot as plt\n",
        "\n",
        "x = np.linspace(-1, 1, 15)\n",
        "fx = 1/(1 + 25*(x**2))\n",
        "xinterv = np.linspace(-1, 1, 200)\n",
        "\n",
        "y = interpsplinecub(x, fx, xinterv)\n",
        "\n",
        "fig, ax = plt.subplots()\n",
        "ax.scatter(x, fx, color='black', label='f(x)')\n",
        "ax.plot(xinterv, y, color='blue', label='Spline cúbica')\n",
        "ax.set_xlabel('x', fontsize=18)\n",
        "ax.set_ylabel('y', fontsize=18)\n",
        "ax.legend()\n",
        "\n",
        "plt.grid()\n",
        "plt.show()"
      ],
      "metadata": {
        "id": "NlqpC2Xxe_wL",
        "colab": {
          "base_uri": "https://localhost:8080/",
          "height": 287
        },
        "outputId": "26f2dee9-ab39-457c-d609-59f77744d2a9"
      },
      "execution_count": null,
      "outputs": [
        {
          "output_type": "display_data",
          "data": {
            "text/plain": [
              "<Figure size 432x288 with 1 Axes>"
            ],
            "image/png": "[encoded data removed]"
          },
          "metadata": {
            "needs_background": "light"
          }
        }
      ]
    }
  ]
}